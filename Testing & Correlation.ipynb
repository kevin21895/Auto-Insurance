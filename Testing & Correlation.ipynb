{
 "cells": [
  {
   "cell_type": "code",
   "execution_count": 2,
   "metadata": {
    "collapsed": true
   },
   "outputs": [],
   "source": [
    "%matplotlib inline\n",
    "\n",
    "import os\n",
    "import numpy as np\n",
    "import pandas as pd\n",
    "import seaborn as sns\n",
    "import matplotlib.pyplot as plt\n",
    "from datetime import datetime as dt\n",
    "if int(os.environ.get(\"MODERN_PANDAS_EPUB\", 0)):\n",
    "    import prep # noqa\n",
    "\n",
    "pd.options.display.max_rows = 10\n",
    "pd.options.display.max_columns = 30\n",
    "sns.set(style='ticks', context='talk') "
   ]
  },
  {
   "cell_type": "code",
   "execution_count": 3,
   "metadata": {},
   "outputs": [
    {
     "data": {
      "text/html": [
       "<div>\n",
       "<style>\n",
       "    .dataframe thead tr:only-child th {\n",
       "        text-align: right;\n",
       "    }\n",
       "\n",
       "    .dataframe thead th {\n",
       "        text-align: left;\n",
       "    }\n",
       "\n",
       "    .dataframe tbody tr th {\n",
       "        vertical-align: top;\n",
       "    }\n",
       "</style>\n",
       "<table border=\"1\" class=\"dataframe\">\n",
       "  <thead>\n",
       "    <tr style=\"text-align: right;\">\n",
       "      <th></th>\n",
       "      <th>customer_id</th>\n",
       "      <th>Customer</th>\n",
       "      <th>Gender</th>\n",
       "      <th>Income</th>\n",
       "      <th>Employment Status</th>\n",
       "      <th>Education</th>\n",
       "      <th>Marital Status</th>\n",
       "      <th>Country</th>\n",
       "      <th>State Code</th>\n",
       "      <th>Location Type</th>\n",
       "      <th>Policy Name</th>\n",
       "      <th>Policy Type</th>\n",
       "      <th>Number of Policies</th>\n",
       "      <th>Premium Per Month</th>\n",
       "      <th>Coverage</th>\n",
       "      <th>Sales Channel</th>\n",
       "      <th>Vehicle Type</th>\n",
       "      <th>Vehicle Size</th>\n",
       "      <th>date</th>\n",
       "      <th>Claim Reason</th>\n",
       "      <th>Claim Demanded</th>\n",
       "      <th>Claim Sanctioned</th>\n",
       "      <th>Number of Open Complaints</th>\n",
       "      <th>Response</th>\n",
       "      <th>Months Since Last Claim</th>\n",
       "      <th>Months Since Policy Inspection</th>\n",
       "    </tr>\n",
       "  </thead>\n",
       "  <tbody>\n",
       "    <tr>\n",
       "      <th>0</th>\n",
       "      <td>0</td>\n",
       "      <td>BU79786</td>\n",
       "      <td>F</td>\n",
       "      <td>56274</td>\n",
       "      <td>Employed</td>\n",
       "      <td>Bachelor</td>\n",
       "      <td>Married</td>\n",
       "      <td>US</td>\n",
       "      <td>KS</td>\n",
       "      <td>Suburban</td>\n",
       "      <td>Corporate L3</td>\n",
       "      <td>Corporate Auto</td>\n",
       "      <td>1</td>\n",
       "      <td>69</td>\n",
       "      <td>Basic</td>\n",
       "      <td>Agent</td>\n",
       "      <td>Two-Door Car</td>\n",
       "      <td>Medsize</td>\n",
       "      <td>2/24/11</td>\n",
       "      <td>Collision</td>\n",
       "      <td>276.351928</td>\n",
       "      <td>384.811147</td>\n",
       "      <td>0</td>\n",
       "      <td>No</td>\n",
       "      <td>32</td>\n",
       "      <td>5</td>\n",
       "    </tr>\n",
       "    <tr>\n",
       "      <th>1</th>\n",
       "      <td>1</td>\n",
       "      <td>QZ44356</td>\n",
       "      <td>F</td>\n",
       "      <td>0</td>\n",
       "      <td>Unemployed</td>\n",
       "      <td>Bachelor</td>\n",
       "      <td>Single</td>\n",
       "      <td>US</td>\n",
       "      <td>NE</td>\n",
       "      <td>Suburban</td>\n",
       "      <td>Personal L3</td>\n",
       "      <td>Personal Auto</td>\n",
       "      <td>8</td>\n",
       "      <td>94</td>\n",
       "      <td>Extended</td>\n",
       "      <td>Agent</td>\n",
       "      <td>Four-Door Car</td>\n",
       "      <td>Medsize</td>\n",
       "      <td>1/31/11</td>\n",
       "      <td>Scratch/Dent</td>\n",
       "      <td>697.953590</td>\n",
       "      <td>1131.464935</td>\n",
       "      <td>0</td>\n",
       "      <td>No</td>\n",
       "      <td>13</td>\n",
       "      <td>42</td>\n",
       "    </tr>\n",
       "    <tr>\n",
       "      <th>2</th>\n",
       "      <td>2</td>\n",
       "      <td>AI49188</td>\n",
       "      <td>F</td>\n",
       "      <td>48767</td>\n",
       "      <td>Employed</td>\n",
       "      <td>Bachelor</td>\n",
       "      <td>Married</td>\n",
       "      <td>US</td>\n",
       "      <td>OK</td>\n",
       "      <td>Suburban</td>\n",
       "      <td>Personal L3</td>\n",
       "      <td>Personal Auto</td>\n",
       "      <td>2</td>\n",
       "      <td>108</td>\n",
       "      <td>Premium</td>\n",
       "      <td>Agent</td>\n",
       "      <td>Two-Door Car</td>\n",
       "      <td>Medsize</td>\n",
       "      <td>2/19/11</td>\n",
       "      <td>Collision</td>\n",
       "      <td>1288.743165</td>\n",
       "      <td>566.472247</td>\n",
       "      <td>0</td>\n",
       "      <td>No</td>\n",
       "      <td>18</td>\n",
       "      <td>38</td>\n",
       "    </tr>\n",
       "    <tr>\n",
       "      <th>3</th>\n",
       "      <td>3</td>\n",
       "      <td>WW63253</td>\n",
       "      <td>M</td>\n",
       "      <td>0</td>\n",
       "      <td>Unemployed</td>\n",
       "      <td>Bachelor</td>\n",
       "      <td>Married</td>\n",
       "      <td>US</td>\n",
       "      <td>MO</td>\n",
       "      <td>Suburban</td>\n",
       "      <td>Corporate L2</td>\n",
       "      <td>Corporate Auto</td>\n",
       "      <td>7</td>\n",
       "      <td>106</td>\n",
       "      <td>Basic</td>\n",
       "      <td>Call Center</td>\n",
       "      <td>SUV</td>\n",
       "      <td>Medsize</td>\n",
       "      <td>1/20/11</td>\n",
       "      <td>Collision</td>\n",
       "      <td>764.586183</td>\n",
       "      <td>529.881344</td>\n",
       "      <td>0</td>\n",
       "      <td>No</td>\n",
       "      <td>18</td>\n",
       "      <td>65</td>\n",
       "    </tr>\n",
       "    <tr>\n",
       "      <th>4</th>\n",
       "      <td>4</td>\n",
       "      <td>HB64268</td>\n",
       "      <td>M</td>\n",
       "      <td>43836</td>\n",
       "      <td>Employed</td>\n",
       "      <td>Bachelor</td>\n",
       "      <td>Single</td>\n",
       "      <td>US</td>\n",
       "      <td>KS</td>\n",
       "      <td>Rural</td>\n",
       "      <td>Personal L1</td>\n",
       "      <td>Personal Auto</td>\n",
       "      <td>1</td>\n",
       "      <td>73</td>\n",
       "      <td>Basic</td>\n",
       "      <td>Agent</td>\n",
       "      <td>Four-Door Car</td>\n",
       "      <td>Medsize</td>\n",
       "      <td>2/3/11</td>\n",
       "      <td>Collision</td>\n",
       "      <td>281.369258</td>\n",
       "      <td>138.130879</td>\n",
       "      <td>0</td>\n",
       "      <td>No</td>\n",
       "      <td>12</td>\n",
       "      <td>44</td>\n",
       "    </tr>\n",
       "  </tbody>\n",
       "</table>\n",
       "</div>"
      ],
      "text/plain": [
       "   customer_id Customer Gender  Income Employment Status Education  \\\n",
       "0            0  BU79786      F   56274          Employed  Bachelor   \n",
       "1            1  QZ44356      F       0        Unemployed  Bachelor   \n",
       "2            2  AI49188      F   48767          Employed  Bachelor   \n",
       "3            3  WW63253      M       0        Unemployed  Bachelor   \n",
       "4            4  HB64268      M   43836          Employed  Bachelor   \n",
       "\n",
       "  Marital Status Country State Code Location Type   Policy Name  \\\n",
       "0        Married      US         KS      Suburban  Corporate L3   \n",
       "1         Single      US         NE      Suburban   Personal L3   \n",
       "2        Married      US         OK      Suburban   Personal L3   \n",
       "3        Married      US         MO      Suburban  Corporate L2   \n",
       "4         Single      US         KS         Rural   Personal L1   \n",
       "\n",
       "      Policy Type  Number of Policies  Premium Per Month  Coverage  \\\n",
       "0  Corporate Auto                   1                 69     Basic   \n",
       "1   Personal Auto                   8                 94  Extended   \n",
       "2   Personal Auto                   2                108   Premium   \n",
       "3  Corporate Auto                   7                106     Basic   \n",
       "4   Personal Auto                   1                 73     Basic   \n",
       "\n",
       "  Sales Channel   Vehicle Type Vehicle Size     date  Claim Reason  \\\n",
       "0         Agent   Two-Door Car      Medsize  2/24/11     Collision   \n",
       "1         Agent  Four-Door Car      Medsize  1/31/11  Scratch/Dent   \n",
       "2         Agent   Two-Door Car      Medsize  2/19/11     Collision   \n",
       "3   Call Center            SUV      Medsize  1/20/11     Collision   \n",
       "4         Agent  Four-Door Car      Medsize   2/3/11     Collision   \n",
       "\n",
       "   Claim Demanded  Claim Sanctioned  Number of Open Complaints Response  \\\n",
       "0      276.351928        384.811147                          0       No   \n",
       "1      697.953590       1131.464935                          0       No   \n",
       "2     1288.743165        566.472247                          0       No   \n",
       "3      764.586183        529.881344                          0       No   \n",
       "4      281.369258        138.130879                          0       No   \n",
       "\n",
       "   Months Since Last Claim  Months Since Policy Inspection  \n",
       "0                       32                               5  \n",
       "1                       13                              42  \n",
       "2                       18                              38  \n",
       "3                       18                              65  \n",
       "4                       12                              44  "
      ]
     },
     "execution_count": 3,
     "metadata": {},
     "output_type": "execute_result"
    }
   ],
   "source": [
    "#Reading data from the CSV File.\n",
    "auto = pd.read_csv('data/Auto.csv')\n",
    "auto.head()"
   ]
  },
  {
   "cell_type": "code",
   "execution_count": 4,
   "metadata": {},
   "outputs": [
    {
     "data": {
      "text/html": [
       "<div>\n",
       "<style>\n",
       "    .dataframe thead tr:only-child th {\n",
       "        text-align: right;\n",
       "    }\n",
       "\n",
       "    .dataframe thead th {\n",
       "        text-align: left;\n",
       "    }\n",
       "\n",
       "    .dataframe tbody tr th {\n",
       "        vertical-align: top;\n",
       "    }\n",
       "</style>\n",
       "<table border=\"1\" class=\"dataframe\">\n",
       "  <thead>\n",
       "    <tr style=\"text-align: right;\">\n",
       "      <th></th>\n",
       "      <th>customer_id</th>\n",
       "      <th>Customer</th>\n",
       "      <th>Gender</th>\n",
       "      <th>Income</th>\n",
       "      <th>Employment_Status</th>\n",
       "      <th>Education</th>\n",
       "      <th>Marital_Status</th>\n",
       "      <th>Country</th>\n",
       "      <th>State_Code</th>\n",
       "      <th>Location_Type</th>\n",
       "      <th>Policy_Name</th>\n",
       "      <th>Policy_Type</th>\n",
       "      <th>Number_of_Policies</th>\n",
       "      <th>Premium_Per_Month</th>\n",
       "      <th>Coverage</th>\n",
       "      <th>Sales_Channel</th>\n",
       "      <th>Vehicle_Type</th>\n",
       "      <th>Vehicle_Size</th>\n",
       "      <th>date</th>\n",
       "      <th>Claim_Reason</th>\n",
       "      <th>Claim_Demanded</th>\n",
       "      <th>Claim_Sanctioned</th>\n",
       "      <th>Number_of_Open_Complaints</th>\n",
       "      <th>Response</th>\n",
       "      <th>Months_Since_Last_Claim</th>\n",
       "      <th>Months_Since_Policy_Inspection</th>\n",
       "    </tr>\n",
       "  </thead>\n",
       "  <tbody>\n",
       "    <tr>\n",
       "      <th>0</th>\n",
       "      <td>0</td>\n",
       "      <td>BU79786</td>\n",
       "      <td>F</td>\n",
       "      <td>56274</td>\n",
       "      <td>Employed</td>\n",
       "      <td>Bachelor</td>\n",
       "      <td>Married</td>\n",
       "      <td>US</td>\n",
       "      <td>KS</td>\n",
       "      <td>Suburban</td>\n",
       "      <td>Corporate L3</td>\n",
       "      <td>Corporate Auto</td>\n",
       "      <td>1</td>\n",
       "      <td>69</td>\n",
       "      <td>Basic</td>\n",
       "      <td>Agent</td>\n",
       "      <td>Two-Door Car</td>\n",
       "      <td>Medsize</td>\n",
       "      <td>2/24/11</td>\n",
       "      <td>Collision</td>\n",
       "      <td>276.351928</td>\n",
       "      <td>384.811147</td>\n",
       "      <td>0</td>\n",
       "      <td>No</td>\n",
       "      <td>32</td>\n",
       "      <td>5</td>\n",
       "    </tr>\n",
       "    <tr>\n",
       "      <th>1</th>\n",
       "      <td>1</td>\n",
       "      <td>QZ44356</td>\n",
       "      <td>F</td>\n",
       "      <td>0</td>\n",
       "      <td>Unemployed</td>\n",
       "      <td>Bachelor</td>\n",
       "      <td>Single</td>\n",
       "      <td>US</td>\n",
       "      <td>NE</td>\n",
       "      <td>Suburban</td>\n",
       "      <td>Personal L3</td>\n",
       "      <td>Personal Auto</td>\n",
       "      <td>8</td>\n",
       "      <td>94</td>\n",
       "      <td>Extended</td>\n",
       "      <td>Agent</td>\n",
       "      <td>Four-Door Car</td>\n",
       "      <td>Medsize</td>\n",
       "      <td>1/31/11</td>\n",
       "      <td>Scratch/Dent</td>\n",
       "      <td>697.953590</td>\n",
       "      <td>1131.464935</td>\n",
       "      <td>0</td>\n",
       "      <td>No</td>\n",
       "      <td>13</td>\n",
       "      <td>42</td>\n",
       "    </tr>\n",
       "    <tr>\n",
       "      <th>2</th>\n",
       "      <td>2</td>\n",
       "      <td>AI49188</td>\n",
       "      <td>F</td>\n",
       "      <td>48767</td>\n",
       "      <td>Employed</td>\n",
       "      <td>Bachelor</td>\n",
       "      <td>Married</td>\n",
       "      <td>US</td>\n",
       "      <td>OK</td>\n",
       "      <td>Suburban</td>\n",
       "      <td>Personal L3</td>\n",
       "      <td>Personal Auto</td>\n",
       "      <td>2</td>\n",
       "      <td>108</td>\n",
       "      <td>Premium</td>\n",
       "      <td>Agent</td>\n",
       "      <td>Two-Door Car</td>\n",
       "      <td>Medsize</td>\n",
       "      <td>2/19/11</td>\n",
       "      <td>Collision</td>\n",
       "      <td>1288.743165</td>\n",
       "      <td>566.472247</td>\n",
       "      <td>0</td>\n",
       "      <td>No</td>\n",
       "      <td>18</td>\n",
       "      <td>38</td>\n",
       "    </tr>\n",
       "    <tr>\n",
       "      <th>3</th>\n",
       "      <td>3</td>\n",
       "      <td>WW63253</td>\n",
       "      <td>M</td>\n",
       "      <td>0</td>\n",
       "      <td>Unemployed</td>\n",
       "      <td>Bachelor</td>\n",
       "      <td>Married</td>\n",
       "      <td>US</td>\n",
       "      <td>MO</td>\n",
       "      <td>Suburban</td>\n",
       "      <td>Corporate L2</td>\n",
       "      <td>Corporate Auto</td>\n",
       "      <td>7</td>\n",
       "      <td>106</td>\n",
       "      <td>Basic</td>\n",
       "      <td>Call Center</td>\n",
       "      <td>SUV</td>\n",
       "      <td>Medsize</td>\n",
       "      <td>1/20/11</td>\n",
       "      <td>Collision</td>\n",
       "      <td>764.586183</td>\n",
       "      <td>529.881344</td>\n",
       "      <td>0</td>\n",
       "      <td>No</td>\n",
       "      <td>18</td>\n",
       "      <td>65</td>\n",
       "    </tr>\n",
       "    <tr>\n",
       "      <th>4</th>\n",
       "      <td>4</td>\n",
       "      <td>HB64268</td>\n",
       "      <td>M</td>\n",
       "      <td>43836</td>\n",
       "      <td>Employed</td>\n",
       "      <td>Bachelor</td>\n",
       "      <td>Single</td>\n",
       "      <td>US</td>\n",
       "      <td>KS</td>\n",
       "      <td>Rural</td>\n",
       "      <td>Personal L1</td>\n",
       "      <td>Personal Auto</td>\n",
       "      <td>1</td>\n",
       "      <td>73</td>\n",
       "      <td>Basic</td>\n",
       "      <td>Agent</td>\n",
       "      <td>Four-Door Car</td>\n",
       "      <td>Medsize</td>\n",
       "      <td>2/3/11</td>\n",
       "      <td>Collision</td>\n",
       "      <td>281.369258</td>\n",
       "      <td>138.130879</td>\n",
       "      <td>0</td>\n",
       "      <td>No</td>\n",
       "      <td>12</td>\n",
       "      <td>44</td>\n",
       "    </tr>\n",
       "  </tbody>\n",
       "</table>\n",
       "</div>"
      ],
      "text/plain": [
       "   customer_id Customer Gender  Income Employment_Status Education  \\\n",
       "0            0  BU79786      F   56274          Employed  Bachelor   \n",
       "1            1  QZ44356      F       0        Unemployed  Bachelor   \n",
       "2            2  AI49188      F   48767          Employed  Bachelor   \n",
       "3            3  WW63253      M       0        Unemployed  Bachelor   \n",
       "4            4  HB64268      M   43836          Employed  Bachelor   \n",
       "\n",
       "  Marital_Status Country State_Code Location_Type   Policy_Name  \\\n",
       "0        Married      US         KS      Suburban  Corporate L3   \n",
       "1         Single      US         NE      Suburban   Personal L3   \n",
       "2        Married      US         OK      Suburban   Personal L3   \n",
       "3        Married      US         MO      Suburban  Corporate L2   \n",
       "4         Single      US         KS         Rural   Personal L1   \n",
       "\n",
       "      Policy_Type  Number_of_Policies  Premium_Per_Month  Coverage  \\\n",
       "0  Corporate Auto                   1                 69     Basic   \n",
       "1   Personal Auto                   8                 94  Extended   \n",
       "2   Personal Auto                   2                108   Premium   \n",
       "3  Corporate Auto                   7                106     Basic   \n",
       "4   Personal Auto                   1                 73     Basic   \n",
       "\n",
       "  Sales_Channel   Vehicle_Type Vehicle_Size     date  Claim_Reason  \\\n",
       "0         Agent   Two-Door Car      Medsize  2/24/11     Collision   \n",
       "1         Agent  Four-Door Car      Medsize  1/31/11  Scratch/Dent   \n",
       "2         Agent   Two-Door Car      Medsize  2/19/11     Collision   \n",
       "3   Call Center            SUV      Medsize  1/20/11     Collision   \n",
       "4         Agent  Four-Door Car      Medsize   2/3/11     Collision   \n",
       "\n",
       "   Claim_Demanded  Claim_Sanctioned  Number_of_Open_Complaints Response  \\\n",
       "0      276.351928        384.811147                          0       No   \n",
       "1      697.953590       1131.464935                          0       No   \n",
       "2     1288.743165        566.472247                          0       No   \n",
       "3      764.586183        529.881344                          0       No   \n",
       "4      281.369258        138.130879                          0       No   \n",
       "\n",
       "   Months_Since_Last_Claim  Months_Since_Policy_Inspection  \n",
       "0                       32                               5  \n",
       "1                       13                              42  \n",
       "2                       18                              38  \n",
       "3                       18                              65  \n",
       "4                       12                              44  "
      ]
     },
     "execution_count": 4,
     "metadata": {},
     "output_type": "execute_result"
    }
   ],
   "source": [
    "column_names = {'Premium Per Month': 'Premium_Per_Month','Sales Channel':'Sales_Channel','Employment Status':'Employment_Status',\n",
    "               'Marital Status':'Marital_Status','State Code':'State_Code','Location Type':'Location_Type','Policy Name':'Policy_Name',\n",
    "               'Policy Type':'Policy_Type','Number of Policies':'Number_of_Policies','Claim Reason':'Claim_Reason','Claim Demanded':'Claim_Demanded',\n",
    "               'Claim Sanctioned':'Claim_Sanctioned','Vehicle Type':'Vehicle_Type','Vehicle Size':'Vehicle_Size','Number of Open Complaints':'Number_of_Open_Complaints',\n",
    "               'Months Since Last Claim':'Months_Since_Last_Claim','Months Since Policy Inspection':'Months_Since_Policy_Inspection'}\n",
    "auto = auto.rename(columns=column_names)\n",
    "auto.head()"
   ]
  },
  {
   "cell_type": "markdown",
   "metadata": {},
   "source": [
    "Question 1: Can we predict Number of Policies sold using Sales Channel?"
   ]
  },
  {
   "cell_type": "code",
   "execution_count": 5,
   "metadata": {
    "collapsed": true
   },
   "outputs": [],
   "source": [
    "auto1 = auto.groupby('Sales_Channel').Number_of_Policies.sum()"
   ]
  },
  {
   "cell_type": "code",
   "execution_count": 6,
   "metadata": {},
   "outputs": [
    {
     "data": {
      "text/plain": [
       "Sales_Channel\n",
       "Agent          10247\n",
       "Branch          7519\n",
       "Call Center     5306\n",
       "Web             4021\n",
       "Name: Number_of_Policies, dtype: int64"
      ]
     },
     "execution_count": 6,
     "metadata": {},
     "output_type": "execute_result"
    }
   ],
   "source": [
    "auto1.head()"
   ]
  },
  {
   "cell_type": "code",
   "execution_count": 7,
   "metadata": {
    "scrolled": true
   },
   "outputs": [
    {
     "data": {
      "text/plain": [
       "(0.0, 1.0, 0, array([ 10247.,   7519.,   5306.,   4021.]))"
      ]
     },
     "execution_count": 7,
     "metadata": {},
     "output_type": "execute_result"
    }
   ],
   "source": [
    "import scipy.stats as stats\n",
    "stats.chi2_contingency(auto1,correction=False)"
   ]
  },
  {
   "cell_type": "code",
   "execution_count": 8,
   "metadata": {
    "collapsed": true
   },
   "outputs": [],
   "source": [
    "agent = auto[auto['Sales_Channel']=='Agent']['Number_of_Policies']\n",
    "branch = auto[auto['Sales_Channel']=='Branch']['Number_of_Policies']\n",
    "call_center = auto[auto['Sales_Channel']=='Call Center']['Number_of_Policies']\n",
    "web = auto[auto['Sales_Channel']=='Web']['Number_of_Policies']"
   ]
  },
  {
   "cell_type": "code",
   "execution_count": 9,
   "metadata": {},
   "outputs": [
    {
     "data": {
      "text/plain": [
       "Ttest_indResult(statistic=0.29071034788636574, pvalue=0.771282834547242)"
      ]
     },
     "execution_count": 9,
     "metadata": {},
     "output_type": "execute_result"
    }
   ],
   "source": [
    "stats.ttest_ind(agent,branch)"
   ]
  },
  {
   "cell_type": "code",
   "execution_count": 10,
   "metadata": {},
   "outputs": [
    {
     "data": {
      "text/plain": [
       "Intercept                       2.947081\n",
       "Sales_Channel[T.Branch]        -0.017981\n",
       "Sales_Channel[T.Call Center]    0.059151\n",
       "Sales_Channel[T.Web]            0.087636\n",
       "dtype: float64"
      ]
     },
     "execution_count": 10,
     "metadata": {},
     "output_type": "execute_result"
    }
   ],
   "source": [
    "import statsmodels.formula.api as smf\n",
    "lm = smf.ols(formula='Number_of_Policies ~ Sales_Channel',data=auto).fit()\n",
    "lm.params"
   ]
  },
  {
   "cell_type": "code",
   "execution_count": 11,
   "metadata": {},
   "outputs": [
    {
     "data": {
      "text/plain": [
       "Intercept                       0.000000\n",
       "Sales_Channel[T.Branch]         0.772528\n",
       "Sales_Channel[T.Call Center]    0.397165\n",
       "Sales_Channel[T.Web]            0.256140\n",
       "dtype: float64"
      ]
     },
     "execution_count": 11,
     "metadata": {},
     "output_type": "execute_result"
    }
   ],
   "source": [
    "lm.pvalues"
   ]
  },
  {
   "cell_type": "markdown",
   "metadata": {},
   "source": [
    "From the above results we can interpret that number of policies cannot be predicted using Sales Channel as no p-values is above the threshold."
   ]
  },
  {
   "cell_type": "markdown",
   "metadata": {},
   "source": [
    "Question 2: Is Employment Status and Premium per month correlated?"
   ]
  },
  {
   "cell_type": "code",
   "execution_count": 12,
   "metadata": {},
   "outputs": [
    {
     "data": {
      "text/html": [
       "<div>\n",
       "<style>\n",
       "    .dataframe thead tr:only-child th {\n",
       "        text-align: right;\n",
       "    }\n",
       "\n",
       "    .dataframe thead th {\n",
       "        text-align: left;\n",
       "    }\n",
       "\n",
       "    .dataframe tbody tr th {\n",
       "        vertical-align: top;\n",
       "    }\n",
       "</style>\n",
       "<table border=\"1\" class=\"dataframe\">\n",
       "  <thead>\n",
       "    <tr style=\"text-align: right;\">\n",
       "      <th></th>\n",
       "      <th>Customer_ID</th>\n",
       "      <th>Employment</th>\n",
       "      <th>Premium</th>\n",
       "      <th>Employments</th>\n",
       "    </tr>\n",
       "  </thead>\n",
       "  <tbody>\n",
       "    <tr>\n",
       "      <th>0</th>\n",
       "      <td>0</td>\n",
       "      <td>Employed</td>\n",
       "      <td>69</td>\n",
       "      <td>NaN</td>\n",
       "    </tr>\n",
       "    <tr>\n",
       "      <th>1</th>\n",
       "      <td>1</td>\n",
       "      <td>Unemployed</td>\n",
       "      <td>94</td>\n",
       "      <td>NaN</td>\n",
       "    </tr>\n",
       "    <tr>\n",
       "      <th>2</th>\n",
       "      <td>2</td>\n",
       "      <td>Employed</td>\n",
       "      <td>108</td>\n",
       "      <td>NaN</td>\n",
       "    </tr>\n",
       "    <tr>\n",
       "      <th>3</th>\n",
       "      <td>3</td>\n",
       "      <td>Unemployed</td>\n",
       "      <td>106</td>\n",
       "      <td>NaN</td>\n",
       "    </tr>\n",
       "    <tr>\n",
       "      <th>4</th>\n",
       "      <td>4</td>\n",
       "      <td>Employed</td>\n",
       "      <td>73</td>\n",
       "      <td>NaN</td>\n",
       "    </tr>\n",
       "  </tbody>\n",
       "</table>\n",
       "</div>"
      ],
      "text/plain": [
       "   Customer_ID  Employment  Premium Employments\n",
       "0            0    Employed       69         NaN\n",
       "1            1  Unemployed       94         NaN\n",
       "2            2    Employed      108         NaN\n",
       "3            3  Unemployed      106         NaN\n",
       "4            4    Employed       73         NaN"
      ]
     },
     "execution_count": 12,
     "metadata": {},
     "output_type": "execute_result"
    }
   ],
   "source": [
    "auto2 = pd.DataFrame(columns =['Customer_ID','Employment','Premium','Employments'])\n",
    "auto2['Customer_ID'] = auto['customer_id']\n",
    "auto2['Employment'] = auto['Employment_Status']\n",
    "auto2['Premium'] = auto['Premium_Per_Month']\n",
    "auto2.head()"
   ]
  },
  {
   "cell_type": "code",
   "execution_count": 13,
   "metadata": {
    "collapsed": true
   },
   "outputs": [],
   "source": [
    "for i in auto2['Customer_ID']:\n",
    "    if auto2.loc[i,'Employment'] == \"Employed\":\n",
    "        auto2.loc[i,'Employments'] = 1\n",
    "    else:\n",
    "        auto2.loc[i,'Employments'] = 0\n",
    "  "
   ]
  },
  {
   "cell_type": "code",
   "execution_count": 14,
   "metadata": {},
   "outputs": [
    {
     "data": {
      "text/plain": [
       "Employments\n",
       "0    320339\n",
       "1    531126\n",
       "Name: Premium, dtype: int64"
      ]
     },
     "execution_count": 14,
     "metadata": {},
     "output_type": "execute_result"
    }
   ],
   "source": [
    "auto21 = auto2.groupby('Employments').Premium.sum()\n",
    "auto21.head()"
   ]
  },
  {
   "cell_type": "code",
   "execution_count": 15,
   "metadata": {},
   "outputs": [
    {
     "data": {
      "text/plain": [
       "(0.0, 1.0, 0, array([ 320339.,  531126.]))"
      ]
     },
     "execution_count": 15,
     "metadata": {},
     "output_type": "execute_result"
    }
   ],
   "source": [
    "stats.chi2_contingency(auto21,correction=False)"
   ]
  },
  {
   "cell_type": "code",
   "execution_count": 16,
   "metadata": {
    "collapsed": true
   },
   "outputs": [],
   "source": [
    "employed = auto2[auto2['Employments']== 1]['Premium']\n",
    "unemployed = auto2[auto2['Employments']== 0]['Premium']"
   ]
  },
  {
   "cell_type": "code",
   "execution_count": 17,
   "metadata": {},
   "outputs": [
    {
     "data": {
      "text/plain": [
       "Ttest_indResult(statistic=-0.023550236706379877, pvalue=0.9812118810291357)"
      ]
     },
     "execution_count": 17,
     "metadata": {},
     "output_type": "execute_result"
    }
   ],
   "source": [
    "stats.ttest_ind(employed,unemployed)"
   ]
  },
  {
   "cell_type": "code",
   "execution_count": 18,
   "metadata": {},
   "outputs": [
    {
     "data": {
      "text/plain": [
       "-0.00024644063095685724"
      ]
     },
     "execution_count": 18,
     "metadata": {},
     "output_type": "execute_result"
    }
   ],
   "source": [
    "auto2['Premium']=np.int64(auto2['Premium'])\n",
    "auto2['Employments'] = np.int64(auto2['Employments'])\n",
    "auto2['Premium'].corr(auto2['Employments'])"
   ]
  },
  {
   "cell_type": "markdown",
   "metadata": {},
   "source": [
    "From the above results it can be interpreted that employment status is not correlated to premium per month"
   ]
  },
  {
   "cell_type": "markdown",
   "metadata": {},
   "source": [
    "Question 3: Is Marital Status and Premium Per Month correlated?"
   ]
  },
  {
   "cell_type": "code",
   "execution_count": 20,
   "metadata": {},
   "outputs": [
    {
     "data": {
      "text/html": [
       "<div>\n",
       "<style>\n",
       "    .dataframe thead tr:only-child th {\n",
       "        text-align: right;\n",
       "    }\n",
       "\n",
       "    .dataframe thead th {\n",
       "        text-align: left;\n",
       "    }\n",
       "\n",
       "    .dataframe tbody tr th {\n",
       "        vertical-align: top;\n",
       "    }\n",
       "</style>\n",
       "<table border=\"1\" class=\"dataframe\">\n",
       "  <thead>\n",
       "    <tr style=\"text-align: right;\">\n",
       "      <th></th>\n",
       "      <th>Customer_ID</th>\n",
       "      <th>Married</th>\n",
       "      <th>Premium</th>\n",
       "      <th>Marrieds</th>\n",
       "    </tr>\n",
       "  </thead>\n",
       "  <tbody>\n",
       "    <tr>\n",
       "      <th>0</th>\n",
       "      <td>0</td>\n",
       "      <td>Married</td>\n",
       "      <td>69</td>\n",
       "      <td>NaN</td>\n",
       "    </tr>\n",
       "    <tr>\n",
       "      <th>1</th>\n",
       "      <td>1</td>\n",
       "      <td>Single</td>\n",
       "      <td>94</td>\n",
       "      <td>NaN</td>\n",
       "    </tr>\n",
       "    <tr>\n",
       "      <th>2</th>\n",
       "      <td>2</td>\n",
       "      <td>Married</td>\n",
       "      <td>108</td>\n",
       "      <td>NaN</td>\n",
       "    </tr>\n",
       "    <tr>\n",
       "      <th>3</th>\n",
       "      <td>3</td>\n",
       "      <td>Married</td>\n",
       "      <td>106</td>\n",
       "      <td>NaN</td>\n",
       "    </tr>\n",
       "    <tr>\n",
       "      <th>4</th>\n",
       "      <td>4</td>\n",
       "      <td>Single</td>\n",
       "      <td>73</td>\n",
       "      <td>NaN</td>\n",
       "    </tr>\n",
       "  </tbody>\n",
       "</table>\n",
       "</div>"
      ],
      "text/plain": [
       "   Customer_ID  Married  Premium Marrieds\n",
       "0            0  Married       69      NaN\n",
       "1            1   Single       94      NaN\n",
       "2            2  Married      108      NaN\n",
       "3            3  Married      106      NaN\n",
       "4            4   Single       73      NaN"
      ]
     },
     "execution_count": 20,
     "metadata": {},
     "output_type": "execute_result"
    }
   ],
   "source": [
    "auto3 = pd.DataFrame(columns =['Customer_ID','Married','Premium','Marrieds'])\n",
    "auto3['Customer_ID'] = auto['customer_id']\n",
    "auto3['Married'] = auto['Marital_Status']\n",
    "auto3['Premium'] = auto['Premium_Per_Month']\n",
    "auto3.head()"
   ]
  },
  {
   "cell_type": "code",
   "execution_count": 21,
   "metadata": {},
   "outputs": [
    {
     "data": {
      "text/plain": [
       "Marrieds\n",
       "0    358387\n",
       "1    493078\n",
       "Name: Premium, dtype: int64"
      ]
     },
     "execution_count": 21,
     "metadata": {},
     "output_type": "execute_result"
    }
   ],
   "source": [
    "for i in auto3['Customer_ID']:\n",
    "    if auto3.loc[i,'Married'] == \"Married\":\n",
    "        auto3.loc[i,'Marrieds'] = 1\n",
    "    else:\n",
    "        auto3.loc[i,'Marrieds'] = 0\n",
    "\n",
    "auto31 = auto3.groupby('Marrieds').Premium.sum()\n",
    "auto31.head()"
   ]
  },
  {
   "cell_type": "code",
   "execution_count": 22,
   "metadata": {},
   "outputs": [
    {
     "data": {
      "text/plain": [
       "(0.0, 1.0, 0, array([ 358387.,  493078.]))"
      ]
     },
     "execution_count": 22,
     "metadata": {},
     "output_type": "execute_result"
    }
   ],
   "source": [
    "stats.chi2_contingency(auto31,correction=False)"
   ]
  },
  {
   "cell_type": "code",
   "execution_count": 24,
   "metadata": {},
   "outputs": [
    {
     "data": {
      "text/plain": [
       "Ttest_indResult(statistic=-0.49153333020070561, pvalue=0.62306109790049313)"
      ]
     },
     "execution_count": 24,
     "metadata": {},
     "output_type": "execute_result"
    }
   ],
   "source": [
    "married = auto3[auto3['Marrieds']== 1]['Premium']\n",
    "nonmarried = auto3[auto3['Marrieds']== 0]['Premium']\n",
    "stats.ttest_ind(married,nonmarried)"
   ]
  },
  {
   "cell_type": "code",
   "execution_count": 25,
   "metadata": {},
   "outputs": [
    {
     "data": {
      "text/plain": [
       "-0.0051435655121088329"
      ]
     },
     "execution_count": 25,
     "metadata": {},
     "output_type": "execute_result"
    }
   ],
   "source": [
    "auto3['Premium']=np.int64(auto3['Premium'])\n",
    "auto3['Marrieds'] = np.int64(auto3['Marrieds'])\n",
    "auto3['Premium'].corr(auto3['Marrieds'])"
   ]
  },
  {
   "cell_type": "markdown",
   "metadata": {},
   "source": [
    "From the above results it can be interpreted that marital status is not correlated to premium per month"
   ]
  },
  {
   "cell_type": "code",
   "execution_count": null,
   "metadata": {
    "collapsed": true
   },
   "outputs": [],
   "source": []
  }
 ],
 "metadata": {
  "kernelspec": {
   "display_name": "Python 3",
   "language": "python",
   "name": "python3"
  },
  "language_info": {
   "codemirror_mode": {
    "name": "ipython",
    "version": 3
   },
   "file_extension": ".py",
   "mimetype": "text/x-python",
   "name": "python",
   "nbconvert_exporter": "python",
   "pygments_lexer": "ipython3",
   "version": "3.6.1"
  }
 },
 "nbformat": 4,
 "nbformat_minor": 2
}
